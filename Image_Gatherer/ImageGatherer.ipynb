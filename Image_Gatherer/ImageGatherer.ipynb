{
 "cells": [
  {
   "cell_type": "markdown",
   "metadata": {},
   "source": [
    "# Image Gatherer"
   ]
  },
  {
   "cell_type": "markdown",
   "metadata": {},
   "source": [
    "Type any kind of object you are looking for and get images from the Bing Image Search API."
   ]
  },
  {
   "cell_type": "code",
   "execution_count": 1,
   "metadata": {
    "collapsed": true
   },
   "outputs": [],
   "source": [
    "# import libraries\n",
    "import json\n",
    "import urllib.request\n",
    "import requests\n",
    "import os"
   ]
  },
  {
   "cell_type": "code",
   "execution_count": 2,
   "metadata": {
    "collapsed": true
   },
   "outputs": [],
   "source": [
    "# Credentials for Bing Image Search API\n",
    "url = \"https://api.cognitive.microsoft.com/bing/v5.0/images/search\"\n",
    "key = \"INSERT YOUR BING IMAGE SEARCH KEY HERE\"\n",
    "safeSearch = 'Moderate'"
   ]
  },
  {
   "cell_type": "code",
   "execution_count": 3,
   "metadata": {
    "collapsed": false
   },
   "outputs": [],
   "source": [
    "def SaveImage(url, folder, number, fileFormat):\n",
    "    ''' Save the image given by the url in the specified folder'''\n",
    "    path = 'images/' + folder\n",
    "    if not os.path.isdir(path):\n",
    "        os.mkdir(path)\n",
    "    if not os.path.isfile('{0}/{1}.{2}'.format(path,str(number),fileFormat)):\n",
    "        try:\n",
    "            # maybe pic unified file format here, e.g. png or jpg\n",
    "            urllib.request.urlretrieve(url, '{0}/{1}_{2}.{3}'.format(path,folder,str(number),fileFormat))\n",
    "            print(\"\\tSaved image {0}\".format(number + 1))\n",
    "        except:\n",
    "            print('\\tImage {0} could not be saved for {1}'.format(number, folder))\n",
    "    else:\n",
    "        print('\\tSkipped image {0} - already exists'.format(number, folder))"
   ]
  },
  {
   "cell_type": "code",
   "execution_count": 4,
   "metadata": {
    "collapsed": true
   },
   "outputs": [],
   "source": [
    "def RetrieveImages(query, num):\n",
    "    # Request headers\n",
    "    headers = {\n",
    "        'Content-Type': 'multipart/form-data',\n",
    "        'Ocp-Apim-Subscription-Key': key,\n",
    "    }\n",
    "    \n",
    "    # Request data    \n",
    "    data = (url, query, num, safeSearch)\n",
    "    requestUrl = '{0}?q={1}&count={2}&safeSearch={3}'.format(*data)\n",
    "    \n",
    "    # Send request and return json result\n",
    "    r = requests.get(requestUrl, headers=headers)\n",
    "    return r.json()"
   ]
  },
  {
   "cell_type": "code",
   "execution_count": 5,
   "metadata": {
    "collapsed": false,
    "scrolled": false
   },
   "outputs": [],
   "source": [
    "def TriggerImageRetrieval(query, num, folderName):\n",
    "    imageResult = RetrieveImages(query, num)    \n",
    "    for i in range(0, len(imageResult['value'])):\n",
    "        image = imageResult['value'][i]\n",
    "        SaveImage(image['contentUrl'], folderName, i, image['encodingFormat'])"
   ]
  },
  {
   "cell_type": "code",
   "execution_count": 6,
   "metadata": {
    "collapsed": false
   },
   "outputs": [],
   "source": [
    "def RunOnQueryList(queryList, extension, numResults):\n",
    "    print('------------------ Starting ------------------')\n",
    "    for query in queryList:\n",
    "        print('Results for {0}{1} - {2} of {3}:'.format( query , extension , queryList.index(query) + 1, len ( queryList ) ))\n",
    "        TriggerImageRetrieval(query + extension, numResults , query.replace(' ','_') )\n",
    "    print('------------------ Finished ------------------')"
   ]
  },
  {
   "cell_type": "code",
   "execution_count": 10,
   "metadata": {
    "collapsed": false,
    "scrolled": true
   },
   "outputs": [],
   "source": [
    "# Set Variables\n",
    "\n",
    "# Every entry from queryList is appended by the chosen extension and a folder is created with the name of the entry\n",
    "queryList = ['France','Netherlands','England','Indonesia','China','Greece','Poland']\n",
    "\n",
    "# The number of images saved to the folder\n",
    "numResults = 40"
   ]
  },
  {
   "cell_type": "code",
   "execution_count": 11,
   "metadata": {
    "collapsed": false,
    "scrolled": true
   },
   "outputs": [],
   "source": [
    "# This runs the process and can take some time, especially if numResults is high and queryList contains a lot of entries\n",
    "RunOnQueryList(queryList=queryList, extension=' flag', numResults=numResults)"
   ]
  }
 ],
 "metadata": {
  "anaconda-cloud": {},
  "kernelspec": {
   "display_name": "Python [conda root]",
   "language": "python",
   "name": "conda-root-py"
  },
  "language_info": {
   "codemirror_mode": {
    "name": "ipython",
    "version": 3
   },
   "file_extension": ".py",
   "mimetype": "text/x-python",
   "name": "python",
   "nbconvert_exporter": "python",
   "pygments_lexer": "ipython3",
   "version": "3.5.2"
  }
 },
 "nbformat": 4,
 "nbformat_minor": 1
}
